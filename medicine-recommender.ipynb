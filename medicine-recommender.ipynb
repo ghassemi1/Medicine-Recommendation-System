{
 "cells": [
  {
   "cell_type": "code",
   "execution_count": null,
   "metadata": {
    "_cell_guid": "b1076dfc-b9ad-4769-8c92-a6c4dae69d19",
    "_uuid": "8f2839f25d086af736a60e9eeb907d3b93b6e0e5",
    "execution": {
     "iopub.execute_input": "2022-05-26T15:21:29.887653Z",
     "iopub.status.busy": "2022-05-26T15:21:29.887162Z",
     "iopub.status.idle": "2022-05-26T15:21:29.923894Z",
     "shell.execute_reply": "2022-05-26T15:21:29.923084Z",
     "shell.execute_reply.started": "2022-05-26T15:21:29.887562Z"
    }
   },
   "outputs": [],
   "source": [
    "\n",
    "import numpy as np # linear algebra\n",
    "import pandas as pd # data processing, CSV file I/O (e.g. pd.read_csv)\n",
    "import torch\n",
    "from datasets import Dataset, load_dataset\n",
    "# from transformers import AutoTokenizer, AutoModel\n",
    "from sentence_transformers import SentenceTransformer\n"
   ]
  },
  {
   "cell_type": "code",
   "execution_count": null,
   "metadata": {
    "execution": {
     "iopub.execute_input": "2022-05-26T15:22:10.370195Z",
     "iopub.status.busy": "2022-05-26T15:22:10.369768Z",
     "iopub.status.idle": "2022-05-26T15:22:10.423042Z",
     "shell.execute_reply": "2022-05-26T15:22:10.422102Z",
     "shell.execute_reply.started": "2022-05-26T15:22:10.370167Z"
    }
   },
   "outputs": [],
   "source": [
    "medicines = pd.read_csv('medicine-recommendation-system-main/medicine.csv')"
   ]
  },
  {
   "cell_type": "code",
   "execution_count": 34,
   "metadata": {
    "execution": {
     "iopub.execute_input": "2022-05-26T15:22:17.329081Z",
     "iopub.status.busy": "2022-05-26T15:22:17.328665Z",
     "iopub.status.idle": "2022-05-26T15:22:17.352018Z",
     "shell.execute_reply": "2022-05-26T15:22:17.350989Z",
     "shell.execute_reply.started": "2022-05-26T15:22:17.329047Z"
    }
   },
   "outputs": [
    {
     "data": {
      "text/html": [
       "<div>\n",
       "<style scoped>\n",
       "    .dataframe tbody tr th:only-of-type {\n",
       "        vertical-align: middle;\n",
       "    }\n",
       "\n",
       "    .dataframe tbody tr th {\n",
       "        vertical-align: top;\n",
       "    }\n",
       "\n",
       "    .dataframe thead th {\n",
       "        text-align: right;\n",
       "    }\n",
       "</style>\n",
       "<table border=\"1\" class=\"dataframe\">\n",
       "  <thead>\n",
       "    <tr style=\"text-align: right;\">\n",
       "      <th></th>\n",
       "      <th>index</th>\n",
       "      <th>Drug_Name</th>\n",
       "      <th>Reason</th>\n",
       "      <th>Description</th>\n",
       "    </tr>\n",
       "  </thead>\n",
       "  <tbody>\n",
       "    <tr>\n",
       "      <th>9715</th>\n",
       "      <td>9716</td>\n",
       "      <td>T Muce Ointment 5gm</td>\n",
       "      <td>Wound</td>\n",
       "      <td>used for treating warts</td>\n",
       "    </tr>\n",
       "    <tr>\n",
       "      <th>9716</th>\n",
       "      <td>9717</td>\n",
       "      <td>Wokadine 10% Solution 100mlWokadine Solution 5...</td>\n",
       "      <td>Wound</td>\n",
       "      <td>used to soften the skin cells</td>\n",
       "    </tr>\n",
       "    <tr>\n",
       "      <th>9717</th>\n",
       "      <td>9718</td>\n",
       "      <td>Wokadine M Onit 10gm</td>\n",
       "      <td>Wound</td>\n",
       "      <td>used for scars</td>\n",
       "    </tr>\n",
       "    <tr>\n",
       "      <th>9718</th>\n",
       "      <td>9719</td>\n",
       "      <td>Wound Fix Solution 100ml</td>\n",
       "      <td>Wound</td>\n",
       "      <td>used for wounds</td>\n",
       "    </tr>\n",
       "    <tr>\n",
       "      <th>9719</th>\n",
       "      <td>9720</td>\n",
       "      <td>Wounsol Ointment 15gm</td>\n",
       "      <td>Wound</td>\n",
       "      <td>used to treat and remove raised warts (usually...</td>\n",
       "    </tr>\n",
       "  </tbody>\n",
       "</table>\n",
       "</div>"
      ],
      "text/plain": [
       "      index                                          Drug_Name Reason  \\\n",
       "9715   9716                                T Muce Ointment 5gm  Wound   \n",
       "9716   9717  Wokadine 10% Solution 100mlWokadine Solution 5...  Wound   \n",
       "9717   9718                               Wokadine M Onit 10gm  Wound   \n",
       "9718   9719                           Wound Fix Solution 100ml  Wound   \n",
       "9719   9720                              Wounsol Ointment 15gm  Wound   \n",
       "\n",
       "                                            Description  \n",
       "9715                            used for treating warts  \n",
       "9716                      used to soften the skin cells  \n",
       "9717                                     used for scars  \n",
       "9718                                    used for wounds  \n",
       "9719  used to treat and remove raised warts (usually...  "
      ]
     },
     "execution_count": 34,
     "metadata": {},
     "output_type": "execute_result"
    }
   ],
   "source": [
    "medicines.tail()"
   ]
  },
  {
   "cell_type": "code",
   "execution_count": null,
   "metadata": {},
   "outputs": [],
   "source": [
    "medicines_dataset = Dataset.from_pandas(medicines, preserve_index=False)\n"
   ]
  },
  {
   "cell_type": "code",
   "execution_count": null,
   "metadata": {},
   "outputs": [],
   "source": [
    "def concatenate_text(row):\n",
    "    return {\n",
    "        \"text\": row['Drug_Name']\n",
    "        + '\\n '\n",
    "        + row['Description']\n",
    "    }\n",
    "\n",
    "medicines_dataset = medicines_dataset.map(concatenate_text)\n"
   ]
  },
  {
   "cell_type": "code",
   "execution_count": null,
   "metadata": {},
   "outputs": [],
   "source": [
    "medicines_dataset"
   ]
  },
  {
   "cell_type": "code",
   "execution_count": null,
   "metadata": {},
   "outputs": [],
   "source": [
    "# device = torch.device(\"cuda\")\n",
    "device = torch.device(\"cpu\")\n",
    "\n",
    "\n",
    "model_ckpt = \"sentence-transformers/multi-qa-mpnet-base-dot-v1\"\n",
    "model = SentenceTransformer(model_ckpt, device=device)"
   ]
  },
  {
   "cell_type": "code",
   "execution_count": null,
   "metadata": {},
   "outputs": [],
   "source": [
    "def get_embeddings(text_list):\n",
    "    embeddings = model.encode(text_list, convert_to_numpy=False, convert_to_tensor=True, show_progress_bar=False, device=device)\n",
    "    return embeddings\n",
    "\n",
    "embeddings = get_embeddings(medicines_dataset['text'][0]).detach().cpu().numpy()\n",
    "embeddings.shape"
   ]
  },
  {
   "cell_type": "code",
   "execution_count": null,
   "metadata": {},
   "outputs": [],
   "source": [
    "embeddings_dataset = medicines_dataset.map(\n",
    "    lambda x: {\"embeddings\": get_embeddings(x['text']).detach().cpu().numpy()}\n",
    ")"
   ]
  },
  {
   "cell_type": "code",
   "execution_count": null,
   "metadata": {},
   "outputs": [],
   "source": [
    "len(embeddings_dataset[0]['embeddings'])"
   ]
  },
  {
   "cell_type": "code",
   "execution_count": 35,
   "metadata": {},
   "outputs": [
    {
     "data": {
      "application/vnd.jupyter.widget-view+json": {
       "model_id": "9b25af9926734be69417f9f5f11da8cb",
       "version_major": 2,
       "version_minor": 0
      },
      "text/plain": [
       "  0%|          | 0/10 [00:00<?, ?it/s]"
      ]
     },
     "metadata": {},
     "output_type": "display_data"
    },
    {
     "data": {
      "text/plain": [
       "Dataset({\n",
       "    features: ['index', 'Drug_Name', 'Reason', 'Description', 'text', 'embeddings'],\n",
       "    num_rows: 9720\n",
       "})"
      ]
     },
     "execution_count": 35,
     "metadata": {},
     "output_type": "execute_result"
    }
   ],
   "source": [
    "embeddings_dataset.add_faiss_index(column=\"embeddings\")"
   ]
  },
  {
   "cell_type": "code",
   "execution_count": null,
   "metadata": {},
   "outputs": [],
   "source": [
    "embeddings_dataset.features"
   ]
  },
  {
   "cell_type": "code",
   "execution_count": null,
   "metadata": {},
   "outputs": [],
   "source": [
    "def search_medicine(query_medicine):\n",
    "    query_embedding = get_embeddings(query_medicine).detach().cpu().numpy()\n",
    "    scores, top_medicines = embeddings_dataset.get_nearest_examples(\n",
    "        \"embeddings\", query_embedding, k=5\n",
    "    )\n",
    "    top_medicines_df = pd.DataFrame.from_dict(top_medicines)\n",
    "    top_medicines_df['scores'] = scores\n",
    "    top_medicines_df.sort_values('scores', ascending=False, inplace=True)\n",
    "    return top_medicines_df['Drug_Name'].tolist()"
   ]
  },
  {
   "cell_type": "code",
   "execution_count": null,
   "metadata": {},
   "outputs": [],
   "source": [
    "search_medicine(\"ACGEL NANO Gel 15gm\")"
   ]
  },
  {
   "cell_type": "markdown",
   "metadata": {},
   "source": [
    "# Save the model"
   ]
  },
  {
   "cell_type": "code",
   "execution_count": 46,
   "metadata": {},
   "outputs": [],
   "source": [
    "modelPath='./saved/Drug_Name_Description'\n",
    "\n",
    "model.save(modelPath)"
   ]
  },
  {
   "cell_type": "markdown",
   "metadata": {},
   "source": [
    "# Load the model"
   ]
  },
  {
   "cell_type": "code",
   "execution_count": 132,
   "metadata": {},
   "outputs": [],
   "source": [
    "model_1 = SentenceTransformer(modelPath)"
   ]
  },
  {
   "cell_type": "code",
   "execution_count": 133,
   "metadata": {},
   "outputs": [
    {
     "data": {
      "text/plain": [
       "(768,)"
      ]
     },
     "execution_count": 133,
     "metadata": {},
     "output_type": "execute_result"
    }
   ],
   "source": [
    "def get_embeddings_2(text_list):\n",
    "    embeddings = model_1.encode(text_list, convert_to_numpy=False, convert_to_tensor=True, show_progress_bar=False, device=device)\n",
    "    return embeddings\n",
    "\n",
    "embeddings_2 = get_embeddings(medicines_dataset['text'][0]).detach().cpu().numpy()\n",
    "embeddings_2.shape"
   ]
  },
  {
   "cell_type": "code",
   "execution_count": 130,
   "metadata": {},
   "outputs": [],
   "source": [
    "def search_medicine_2(query_medicine):\n",
    "    query_embedding = get_embeddings_1(query_medicine).detach().cpu().numpy()\n",
    "    scores, top_medicines = embeddings_dataset_2.get_nearest_examples(\n",
    "        \"embeddings\", query_embedding, k=5\n",
    "    )\n",
    "    top_medicines_df = pd.DataFrame.from_dict(top_medicines)\n",
    "    top_medicines_df['scores'] = scores\n",
    "    top_medicines_df.sort_values('scores', ascending=False, inplace=True)\n",
    "    return top_medicines_df['Drug_Name'].tolist()"
   ]
  },
  {
   "cell_type": "code",
   "execution_count": 131,
   "metadata": {},
   "outputs": [
    {
     "data": {
      "text/plain": [
       "['Foracne Plus Gel 15gm',\n",
       " 'Adapnil Gel 15gm',\n",
       " 'Adabor Gel 15gm',\n",
       " 'Adalene Nano Gel 15mg',\n",
       " 'ACGEL NANO Gel 15gm']"
      ]
     },
     "execution_count": 131,
     "metadata": {},
     "output_type": "execute_result"
    }
   ],
   "source": [
    "search_medicine_2(\"ACGEL NANO Gel 15gm\")"
   ]
  },
  {
   "cell_type": "markdown",
   "metadata": {},
   "source": [
    "# Gradio Demo"
   ]
  },
  {
   "cell_type": "code",
   "execution_count": 32,
   "metadata": {},
   "outputs": [],
   "source": [
    "import gradio as gr"
   ]
  },
  {
   "cell_type": "code",
   "execution_count": 33,
   "metadata": {},
   "outputs": [
    {
     "name": "stdout",
     "output_type": "stream",
     "text": [
      "Running on local URL:  http://127.0.0.1:7864\n",
      "\n",
      "To create a public link, set `share=True` in `launch()`.\n"
     ]
    },
    {
     "data": {
      "text/html": [
       "<div><iframe src=\"http://127.0.0.1:7864/\" width=\"100%\" height=\"500\" allow=\"autoplay; camera; microphone; clipboard-read; clipboard-write;\" frameborder=\"0\" allowfullscreen></iframe></div>"
      ],
      "text/plain": [
       "<IPython.core.display.HTML object>"
      ]
     },
     "metadata": {},
     "output_type": "display_data"
    },
    {
     "data": {
      "text/plain": []
     },
     "execution_count": 33,
     "metadata": {},
     "output_type": "execute_result"
    }
   ],
   "source": [
    "demo = gr.Interface(fn=search_medicine, inputs=\"text\", outputs=[\"text\"]*5)\n",
    "demo.launch()"
   ]
  },
  {
   "cell_type": "code",
   "execution_count": null,
   "metadata": {},
   "outputs": [],
   "source": [
    "demo.close()"
   ]
  },
  {
   "cell_type": "code",
   "execution_count": null,
   "metadata": {},
   "outputs": [],
   "source": []
  },
  {
   "cell_type": "code",
   "execution_count": null,
   "metadata": {},
   "outputs": [],
   "source": []
  }
 ],
 "metadata": {
  "kernelspec": {
   "display_name": "Python 3 (ipykernel)",
   "language": "python",
   "name": "python3"
  },
  "language_info": {
   "codemirror_mode": {
    "name": "ipython",
    "version": 3
   },
   "file_extension": ".py",
   "mimetype": "text/x-python",
   "name": "python",
   "nbconvert_exporter": "python",
   "pygments_lexer": "ipython3",
   "version": "3.11.4"
  }
 },
 "nbformat": 4,
 "nbformat_minor": 4
}
